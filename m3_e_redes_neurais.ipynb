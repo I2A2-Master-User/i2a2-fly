{
 "cells": [
  {
   "cell_type": "markdown",
   "metadata": {},
   "source": [
    "[<center><img src=\"./images/logo_fly.png\">](https://www.flyeducacao.org/)\n",
    "# Mulheres in Tech</center>\n",
    "<hr>     \n",
    "Rev 5"
   ]
  },
  {
   "cell_type": "markdown",
   "metadata": {},
   "source": [
    "# Módulo 3"
   ]
  },
  {
   "cell_type": "markdown",
   "metadata": {
    "slideshow": {
     "slide_type": "slide"
    }
   },
   "source": [
    "## Aula 5 - Redes Neurais (16/20)  \n",
    "\n",
    "**Objetivo**: Apresentar as redes neurais e suas aplicações"
   ]
  },
  {
   "cell_type": "markdown",
   "metadata": {},
   "source": [
    "Este material o auxiliará nas sessões de autoestudo, contudo, fique à vontade para consultar outras fontes de informações, mas nunca deixe de anotá-las para uso posterior."
   ]
  },
  {
   "cell_type": "markdown",
   "metadata": {},
   "source": [
    "<img src=\"images/backpropagation.gif\"/>"
   ]
  },
  {
   "cell_type": "markdown",
   "metadata": {},
   "source": [
    "# Redes Neurais\n",
    "\n",
    "* Assista aos vídeos:    \n",
    "\n",
    "\n",
    "[![redesneurais](https://img.youtube.com/vi/fEukSrpDPH0/hqdefault.jpg)](https://youtu.be/fEukSrpDPH0 \"redesneurais\") \n",
    "\n",
    "   - Mas o que é uma Rede Neural?\n",
    "\n",
    "[![3Blue1Brown](https://img.youtube.com/vi/aircAruvnKk/hqdefault.jpg)](https://youtu.be/aircAruvnKk \"Mas o que é uma Rede Neural?\")  \n",
    "\n",
    "   - Redes neurais e multilayer perceptron\n",
    "\n",
    "[![redesneurais](https://img.youtube.com/vi/0eQ6-6A5W6I/hqdefault.jpg)](https://youtu.be/0eQ6-6A5W6I \"redesneurais\") \n",
    "\n",
    "[![redesneurais](https://img.youtube.com/vi/XUN6kFiNZdU/hqdefault.jpg)](https://youtu.be/XUN6kFiNZdU \"redesneurais\") \n",
    "\n",
    "## Vamos brincar no playground?\n",
    "\n",
    "   * Assista ao vídeo:  \n",
    "\n",
    "[![redesneurais](https://img.youtube.com/vi/nmqLNOa32o0/hqdefault.jpg)](https://youtu.be/nmqLNOa32o0 \"redesneurais\") \n",
    "\n",
    "e comece a brincar no [TensorFlow Playground](https://playground.tensorflow.org)  \n",
    "   \n",
    "   * Assista ao vídeo ...  \n",
    "\n",
    "   [![redesneurais](https://img.youtube.com/vi/4P9tNTemHI4/hqdefault.jpg)](https://youtu.be/4P9tNTemHI4 \"redesneurais\") \n",
    "\n",
    "\n",
    "## Redes neurais artificiais aplicadas em sistemas de controle  \n",
    "\n",
    "[![redesneurais](https://img.youtube.com/vi/cPpilfUiUqs/hqdefault.jpg)](https://youtu.be/cPpilfUiUqs \"redesneurais\")"
   ]
  },
  {
   "cell_type": "markdown",
   "metadata": {},
   "source": [
    "* Leia os capítulos (são curtinhos :) ) do livro [Deep Learning Book](https://www.deeplearningbook.com.br/): \n",
    "\n",
    "    * [Capítulo 2 \"Uma Breve História das Redes Neurais Artificiais\"](https://www.deeplearningbook.com.br/uma-breve-historia-das-redes-neurais-artificiais/); \n",
    "    \n",
    "    * [Capítulo 4 \"O Neurônio, Biológico e Matemático\"](https://www.deeplearningbook.com.br/o-neuronio-biologico-e-matematico/); \n",
    "    \n",
    "    * [Capítulo 6 \"O Perceptron – Parte 1\"](https://www.deeplearningbook.com.br/o-perceptron-parte-1/); \n",
    "    \n",
    "    * [Capítulo 7 \"O Perceptron – Parte 2\"](https://www.deeplearningbook.com.br/o-perceptron-parte-2/); \n",
    "    \n",
    "    * [Capítulo 8 \"Função de Ativação\"](https://www.deeplearningbook.com.br/funcao-de-ativacao/); \n",
    "    \n",
    "    * [Capítulo 9 \"A Arquitetura das Redes Neurais\"](https://www.deeplearningbook.com.br/a-arquitetura-das-redes-neurais/);   \n",
    "    \n",
    "    * [Capítulo 10 \"As 10 Principais Arquiteturas de Redes Neurais\"](https://www.deeplearningbook.com.br/as-10-principais-arquiteturas-de-redes-neurais/);\n",
    "    \n",
    "    * [Capítulo 15 \"Algoritmo Backpropagation\"](https://www.deeplearningbook.com.br/algoritmo-backpropagation-parte-2-treinamento-de-redes-neurais/);\n",
    "    \n",
    "    * [Capítulo 17 \"Cross-Entropy Cost Function\"](https://www.deeplearningbook.com.br/cross-entropy-cost-function/);\n",
    "    \n",
    "    * [Capítulo 27 \"Taxa de Aprendizagem\"](https://www.deeplearningbook.com.br/a-taxa-de-aprendizado-de-uma-rede-neural/);\n",
    "    \n",
    "    * [Capítulo 28 \"Épocas de Treinamento\"](https://www.deeplearningbook.com.br/usando-early-stopping-para-definir-o-numero-de-epocas-de-treinamento/);\n",
    "    \n",
    "    * [Capítulo 31 \"As Redes Neurais Artificiais Podem Computar Qualquer Função?\"](https://www.deeplearningbook.com.br/as-redes-neurais-artificiais-podem-computar-qualquer-funcao/);\n",
    "    \n",
    "    * [Capítulo 32 \"Como Uma Rede Neural Artificial Encontra a Aproximação de Uma Função\"](https://www.deeplearningbook.com.br/como-uma-rede-neural-artificial-encontra-a-aproximacao-de-uma-funcao/);   \n",
    "    \n",
    "* Da uma olha no [cap. 5 Multilayer Perceptrons](https://d2l.ai/chapter_multilayer-perceptrons/index.html) do livro [Dive into Deep Learning](https://d2l.ai/index.html)"
   ]
  },
  {
   "cell_type": "markdown",
   "metadata": {},
   "source": [
    "# Após os vídeos e leituras, você deve conhecer:\n",
    "\n",
    "   * Gradiente descendente;\n",
    "   * Funções de ativação;\n",
    "   * Neurônio individual;\n",
    "   * Função XOR e neurônios;\n",
    "   * Multilayer perceptron (MLP);\n",
    "   * Taxa de aprendizagem;\n",
    "   * Pesos;\n",
    "   * Bias;\n",
    "   * Backpropagation;\n",
    "   * Métricas de avaliação."
   ]
  },
  {
   "cell_type": "markdown",
   "metadata": {},
   "source": [
    "# Redes Neurais com o SKLearn\n",
    "\n",
    "* Explore a documentação do [scikit-learn](https://scikit-learn.org/stable/modules/neural_networks_supervised.html)\n"
   ]
  },
  {
   "cell_type": "markdown",
   "metadata": {},
   "source": [
    "# Tutoriais MLP com python no scikit-learn\n",
    "\n",
    "* Assista aos vídeos ...\n",
    "\n",
    "[![tutorialrna](https://img.youtube.com/vi/cO59qwb3Haw/hqdefault.jpg)](https://youtu.be/cO59qwb3Haw \"tutorialrna\") \n",
    "\n",
    "\n",
    "[![tutorialrna](https://img.youtube.com/vi/ik81nrs2p3Q/hqdefault.jpg)](https://youtu.be/ik81nrs2p3Q \"tutorialrna\") \n"
   ]
  },
  {
   "cell_type": "markdown",
   "metadata": {},
   "source": [
    "# Exercício 1\n",
    "\n",
    "* Execute o notebook **Redes Neurais com TensorFlow**\n",
    "\n",
    "[![Binder](https://mybinder.org/badge_logo.svg)](https://mybinder.org/v2/gh/storopoli/ciencia-de-dados/main?filepath=notebooks%2FAula_18_a_Redes_Neurais_com_TensorFlow.ipynb)\n",
    "<br>\n",
    "[![Open In Colab](https://colab.research.google.com/assets/colab-badge.svg)](https://colab.research.google.com/github/storopoli/ciencia-de-dados/blob/main/notebooks/Aula_18_a_Redes_Neurais_com_TensorFlow.ipynb)"
   ]
  },
  {
   "cell_type": "markdown",
   "metadata": {},
   "source": [
    "# Exercício 2\n",
    "\n",
    "* Execute o notebook **Redes Neurais com PyTorch**\n",
    "\n",
    "[![Binder](https://mybinder.org/badge_logo.svg)](https://mybinder.org/v2/gh/storopoli/ciencia-de-dados/main?filepath=notebooks%2FAula_18_b__Redes_Neurais_com_PyTorch.ipynb)\n",
    "<br>\n",
    "[![Open In Colab](https://colab.research.google.com/assets/colab-badge.svg)](https://colab.research.google.com/github/storopoli/ciencia-de-dados/blob/main/notebooks/Aula_18_b_Redes_Neurais_com_PyTorch.ipynb)"
   ]
  },
  {
   "cell_type": "markdown",
   "metadata": {},
   "source": [
    "# Quer saber mais\n",
    "\n",
    "\n",
    "Assista aos vídeos:\n",
    "\n",
    "   * Redes Neurais Artificiais, Perceptron Simples  \n",
    "   \n",
    "[![redesneurais](https://img.youtube.com/vi/Z-NBjvlyBkA/hqdefault.jpg)](https://youtu.be/Z-NBjvlyBkA \"redesneurais Serafim Nascimento\")  \n",
    "\n",
    "   * Gradiente descendente, como as redes neurais aprendem?  \n",
    "\n",
    "[![redesneurais](https://img.youtube.com/vi/IHZwWFHWa-w/hqdefault.jpg)](https://youtu.be/IHZwWFHWa-w \"Descida de gradiente, como as redes neurais aprendem\")  \n",
    "\n",
    "   * What is backpropagation really doing?  \n",
    "\n",
    "[![redesneurais](https://img.youtube.com/vi/Ilg3gGewQ5U/hqdefault.jpg)](https://youtu.be/Ilg3gGewQ5U \"What is backpropagation really doing?\")  \n",
    "\n",
    "   * Playlist do curso Introdução às Redes Neurais Artificiais  \n",
    "\n",
    "[![cursorna](https://img.youtube.com/vi/OQwxeFSJ_Q4/hqdefault.jpg)](https://www.youtube.com/watch?v=OQwxeFSJ_Q4&list=PLZj-vsMJRNhprMuIaE6HXmOkHh0NEEMtL\"cursorna\")  \n",
    " \n",
    "   * Playlist do curso Aprendizado de Máquinas focado em Redes Neurais  \n",
    "\n",
    "[![pcaorange](https://img.youtube.com/vi/Dc6rxNy-OPE/hqdefault.jpg)](https://www.youtube.com/watch?v=Dc6rxNy-OPE&list=PL-lVSjBozU-Hfs3bwwTIBaF3xEjkJvonQ \"pcaorange\")      \n",
    "\n",
    "   * Como utilizar Rede Neural Artificial no Orange  \n",
    "    \n",
    "[![orange](https://img.youtube.com/vi/orrXuRM42Sk/hqdefault.jpg)](https://youtu.be/orrXuRM42Sk \"orange\")   \n",
    "\n",
    "[![orange](https://img.youtube.com/vi/jCYsplaLf1A/hqdefault.jpg)](https://youtu.be/jCYsplaLf1A \"orange\")  \n",
    "\n",
    "   * Assista a aula **Perceptron e Adaline** do grupo Deep Learning Brasil   \n",
    "\n",
    "[![Perceptron e Adaline](https://img.youtube.com/vi/6yYUc6nU3Cw/hqdefault.jpg)](https://youtu.be/6yYUc6nU3Cw \"Perceptron e Adaline\")  \n",
    "\n",
    "* Explore a Playlist do [curso de tensorflow](https://www.youtube.com/watch?v=E3G2Jq3IJDA&list=PLeFetwYAi-F-WR8oLyEFx4dGq8L24o6KM)  \n",
    "\n",
    "* Explore a Playlist do curso [conding tensorflow](https://www.youtube.com/playlist?list=PLQY2H8rRoyvz8oumEhsqSG4bl7JH7_YSG)  \n",
    "\n",
    "* Explore o github do [Workshop de Redes Neurais com Pytorch](https://github.com/turing-usp/Workshop-de-redes-neurais)  \n",
    "\n",
    "* Leia o artigo  [An overview of gradient descent optimization algorithms](https://arxiv.org/abs/1609.04747) de Sebastian Ruder   \n",
    "\n",
    "* Explore o material do curso [UC Berkeley CS188 Intro to AI - Course Materials](http://ai.berkeley.edu/lecture_slides.html)   "
   ]
  },
  {
   "cell_type": "markdown",
   "metadata": {},
   "source": [
    "# Gosta de livros ...    \n",
    "\n",
    "[Deep Learning Book - pt_br](https://www.deeplearningbook.com.br/)\n",
    "\n",
    "[Dive into Deep Learning](https://d2l.ai/index.html)"
   ]
  },
  {
   "cell_type": "markdown",
   "metadata": {},
   "source": [
    "<hr>  \n",
    "\n",
    "# Terceiro Desafio\n",
    "\n",
    "<center><img src=\"./images/Desafio.png\", height=\"500\"></center>\n",
    "\n",
    "## O que precisa ser feito?\n",
    "\n",
    "Você se lembra do [Desafio do Titanic](https://www.kaggle.com/competitions/titanic) no Kaggle?\n",
    "\n",
    "Então, agora chegou a hora de colocar em prática o que foi visto nas aulas anteriores.\n",
    "\n",
    "Execute **todas as etapas** do CRISP-DM.  \n",
    "\n",
    "Isto quer dizer que além do que você já havia feito anteriormente, agora você precisará criar o seus modelo de machine learning, avaliar os resultados e enviar para o Kaggle (vamos considerar que a etapa 6 do CRISP-DM é o envio).  \n",
    "\n",
    "Ou seja, utilize seus conhecimentos para gerar um arquivo de submissão, no mesmo layout do arquivo \"gender_submission.csv\" existente na área de dados do desafio.  \n",
    "\n",
    "Após isto, faça pelo menos 1 submissão de resultados.  \n",
    "\n",
    "Caso você não consiga acessar os datasets, você pode encontrá-los aqui:  \n",
    "- [train](./data/titanic-train.csv)  \n",
    "- [test](./data/titanic-test.csv)  \n",
    "\n",
    "E se você não conseguir acessar o arquivo exemplo para submissão no Kaggle, poderá encontrá-lo aqui: [exemplo](./data/titanic-sample-submission.csv).  \n",
    "\n",
    "Procure novamente no Kaggle ou na internet outras referências a este dataset.  O problema do Titanic é um velho conhecido na comunidade de ciência de dados. Use e abuse das redes generativas (Chat-GPT, Gemini, Co-pilot, Claude ou outra qualquer que você queira).\n",
    "\n",
    "Documente todos os passos, complementando o seu relatório anterior, inclusive documentando os resultados das suas submissões. Seja detalhista!  \n",
    "\n",
    "Enviar para o e-mail **challenges@i2a2.academy**, todo o código fonte gerado, o relatório em formato PDF, e uma cópia da tela do Kaggle com o resultado da sua submissão. No e-mail, use o título \"Mulheres in Tech - Desafio 3\". Não esqueça de incluir seu nome e e-mail na mensagem.  \n",
    "\n",
    "<hr>"
   ]
  },
  {
   "cell_type": "markdown",
   "metadata": {},
   "source": [
    "<center><img src=\"./images/celso_yoda.png\" height=\"200\"></center>\n",
    "<center><i><strong>Que a força esteja com você!</strong></i></center>"
   ]
  },
  {
   "cell_type": "markdown",
   "metadata": {},
   "source": [
    "<hr>\n",
    "Qualquer dúvida, poste no fórum do curso.\n",
    "\n",
    "Créditos: [Vagner Sanches Vasconcelos](https://www.linkedin.com/in/vsvasconcelos/)"
   ]
  },
  {
   "cell_type": "markdown",
   "metadata": {},
   "source": []
  }
 ],
 "metadata": {
  "kernelspec": {
   "display_name": "Python 3",
   "language": "python",
   "name": "python3"
  },
  "language_info": {
   "codemirror_mode": {
    "name": "ipython",
    "version": 3
   },
   "file_extension": ".py",
   "mimetype": "text/x-python",
   "name": "python",
   "nbconvert_exporter": "python",
   "pygments_lexer": "ipython3",
   "version": "3.8.10"
  },
  "rise": {
   "autolaunch": true,
   "enable_chalkboard": true,
   "progress": true,
   "scroll": true,
   "slideNumber": true
  }
 },
 "nbformat": 4,
 "nbformat_minor": 4
}
