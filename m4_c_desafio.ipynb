{
 "cells": [
  {
   "cell_type": "markdown",
   "metadata": {},
   "source": [
    "[<center><img src=\"./images/logo_fly.png\">](https://www.flyeducacao.org/)\n",
    "# Mulheres in Tech</center>\n",
    "<hr>  \n",
    "Rev 1"
   ]
  },
  {
   "cell_type": "markdown",
   "metadata": {
    "slideshow": {
     "slide_type": "slide"
    }
   },
   "source": [
    "# Módulo 4 "
   ]
  },
  {
   "cell_type": "markdown",
   "metadata": {},
   "source": [
    "## Aula 3: Desafio Final (20/20)\n",
    "\n",
    "**Objetivos**: Apresentar a solução do terceiro desafio proposto."
   ]
  },
  {
   "cell_type": "markdown",
   "metadata": {},
   "source": [
    "Este material o auxiliará nas sessões de autoestudo, contudo, fique à vontade para consultar outras fontes de informações, mas nunca deixe de anotá-las para uso posterior."
   ]
  },
  {
   "cell_type": "markdown",
   "metadata": {},
   "source": [
    "\n",
    "<center><img src=\"./images/pexels-olly-3940486.jpg\" heigth=\"300\"></center>  \n",
    "\n",
    "<center>Photo by Andrea Piacquadio: https://www.pexels.com/photo/group-of-women-having-dinner-3940486/</center>\n",
    "\n",
    "\n",
    "\n",
    "## Parabéns. Chegamos ao final!!!  \n",
    "\n",
    "Depois desta longa jornada, tenho certeza que vocês estão se sentindo muito mais preparadas para enfrentar o desafio de criar os seus algoritmos de inteligência artificial.  \n",
    "\n",
    "Agora, é mostrar para o mercado, tudo o que você é capaz de realizar.\n",
    "\n",
    "Mas, não poderíamos encerrar nossa jornada sem uma última oportunidade de vocês apresentarem o que fizeram, não?\n",
    "\n",
    "Então, como é de praxe, agora é hora de avaliarmos o resultado do trabalho realizado por vocês!"
   ]
  },
  {
   "cell_type": "markdown",
   "metadata": {},
   "source": [
    "<center><img src=\"./images/celso_yoda.png\" height=\"200px\"></center>\n",
    "<center><i><strong>Que a força esteja com você!</strong></i></center>"
   ]
  },
  {
   "cell_type": "markdown",
   "metadata": {},
   "source": [
    "Créditos: [Celso A. M. Azevedo](https://www.linkedin.com/in/celso-augusto-morato-azevedo/)"
   ]
  }
 ],
 "metadata": {
  "kernelspec": {
   "display_name": "Python 3",
   "language": "python",
   "name": "python3"
  },
  "language_info": {
   "codemirror_mode": {
    "name": "ipython",
    "version": 3
   },
   "file_extension": ".py",
   "mimetype": "text/x-python",
   "name": "python",
   "nbconvert_exporter": "python",
   "pygments_lexer": "ipython3",
   "version": "3.8.10"
  },
  "rise": {
   "autolaunch": true,
   "enable_chalkboard": true,
   "progress": true,
   "scroll": true,
   "slideNumber": true
  }
 },
 "nbformat": 4,
 "nbformat_minor": 4
}
